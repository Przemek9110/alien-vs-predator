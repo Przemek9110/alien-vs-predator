{
 "cells": [
  {
   "cell_type": "code",
   "execution_count": 1,
   "id": "b9d609fd",
   "metadata": {},
   "outputs": [],
   "source": [
    "import pandas as pd\n",
    "import numpy as np\n",
    "import seaborn as sns\n",
    "import matplotlib.pyplot as plt\n",
    "\n",
    "import torch\n",
    "from torchvision import datasets, models, transforms\n",
    "import torch.nn as nn\n",
    "from torch.nn import functional as F\n",
    "import torch.optim as optim\n",
    "import torchvision\n",
    "\n",
    "from PIL import Image\n",
    "from tqdm import tqdm"
   ]
  },
  {
   "cell_type": "code",
   "execution_count": 2,
   "id": "b989d046",
   "metadata": {},
   "outputs": [],
   "source": [
    "path ='data/' #set here data directory"
   ]
  },
  {
   "cell_type": "code",
   "execution_count": 14,
   "id": "88cdf1a8",
   "metadata": {
    "scrolled": true
   },
   "outputs": [
    {
     "data": {
      "text/plain": [
       "295"
      ]
     },
     "execution_count": 14,
     "metadata": {},
     "output_type": "execute_result"
    }
   ],
   "source": [
    "Image.open('data/train/alien/2.jpg').size[0]"
   ]
  },
  {
   "cell_type": "code",
   "execution_count": 4,
   "id": "438d420d",
   "metadata": {},
   "outputs": [],
   "source": [
    "normalize = transforms.Normalize(mean=[0.485, 0.456, 0.406],\n",
    "                                 std=[0.229, 0.224, 0.225])\n",
    "\n",
    "data_transforms = {\n",
    "    'train':\n",
    "    transforms.Compose([\n",
    "        transforms.Resize((224,224)), \n",
    "        transforms.RandomAffine(0, shear=10, scale=(0.8,1.2)),\n",
    "        transforms.RandomHorizontalFlip(),\n",
    "        transforms.ToTensor(),\n",
    "        normalize\n",
    "    ]),\n",
    "    'validation':\n",
    "    transforms.Compose([\n",
    "        transforms.Resize((224,224)),\n",
    "        transforms.ToTensor(),\n",
    "        normalize\n",
    "    ]),\n",
    "}\n",
    "\n",
    "image_datasets = {\n",
    "    'train': \n",
    "    datasets.ImageFolder(path + 'train', data_transforms['train']),\n",
    "    'validation': \n",
    "    datasets.ImageFolder(path + 'validation', data_transforms['validation'])\n",
    "}\n",
    "\n",
    "dataloaders = {\n",
    "    'train':\n",
    "    torch.utils.data.DataLoader(image_datasets['train'],\n",
    "                                batch_size=32,\n",
    "                                shuffle=True), \n",
    "    'validation':\n",
    "    torch.utils.data.DataLoader(image_datasets['validation'],\n",
    "                                batch_size=32,\n",
    "                                shuffle=False)\n",
    "}"
   ]
  },
  {
   "cell_type": "code",
   "execution_count": 5,
   "id": "6850c76c",
   "metadata": {},
   "outputs": [
    {
     "name": "stdout",
     "output_type": "stream",
     "text": [
      "Using mps device\n"
     ]
    }
   ],
   "source": [
    "device = (\n",
    "    \"cuda\"\n",
    "    if torch.cuda.is_available()\n",
    "    else \"mps\"\n",
    "    if torch.backends.mps.is_available()\n",
    "    else \"cpu\"\n",
    ")\n",
    "print(f\"Using {device} device\")"
   ]
  },
  {
   "cell_type": "code",
   "execution_count": 6,
   "id": "843ba4d8",
   "metadata": {},
   "outputs": [
    {
     "name": "stderr",
     "output_type": "stream",
     "text": [
      "/opt/miniconda3/envs/torch/lib/python3.9/site-packages/torchvision/models/_utils.py:223: UserWarning: Arguments other than a weight enum or `None` for 'weights' are deprecated since 0.13 and may be removed in the future. The current behavior is equivalent to passing `weights=ResNet18_Weights.IMAGENET1K_V1`. You can also use `weights=ResNet18_Weights.DEFAULT` to get the most up-to-date weights.\n",
      "  warnings.warn(msg)\n"
     ]
    }
   ],
   "source": [
    "model = models.resnet18(weights=True).to(device)\n",
    "    \n",
    "for param in model.parameters():\n",
    "    param.requires_grad = False   \n",
    "    \n",
    "model.fc = nn.Sequential(\n",
    "               nn.Linear(512, 128),\n",
    "               nn.ReLU(inplace=True),\n",
    "               nn.Linear(128, 2)).to(device)"
   ]
  },
  {
   "cell_type": "code",
   "execution_count": 7,
   "id": "b2b40be1",
   "metadata": {},
   "outputs": [],
   "source": [
    "criterion = nn.CrossEntropyLoss()\n",
    "optimizer = optim.Adam(model.fc.parameters())"
   ]
  },
  {
   "cell_type": "markdown",
   "id": "6af3e6af",
   "metadata": {},
   "source": [
    "## Train"
   ]
  },
  {
   "cell_type": "code",
   "execution_count": 8,
   "id": "c2645eb1",
   "metadata": {},
   "outputs": [],
   "source": [
    "def train_model(model, criterion, optimizer, num_epochs=3):\n",
    "    for epoch in range(num_epochs):\n",
    "        print('Epoch {}/{}'.format(epoch+1, num_epochs))\n",
    "        print('-' * 10)\n",
    "\n",
    "        for phase in ['train', 'validation']:\n",
    "            if phase == 'train':\n",
    "                model.train()\n",
    "            else:\n",
    "                model.eval()\n",
    "\n",
    "            running_loss = 0.0\n",
    "            running_corrects = 0\n",
    "\n",
    "            for inputs, labels in dataloaders[phase]:\n",
    "                inputs = inputs.to(device)\n",
    "                labels = labels.to(device)\n",
    "\n",
    "                outputs = model(inputs)\n",
    "                loss = criterion(outputs, labels)\n",
    "\n",
    "                if phase == 'train':\n",
    "                    optimizer.zero_grad()\n",
    "                    loss.backward()\n",
    "                    optimizer.step()\n",
    "\n",
    "                _, preds = torch.max(outputs, 1)\n",
    "                running_loss += loss.item() * inputs.size(0)\n",
    "                running_corrects += torch.sum(preds == labels.data)\n",
    "\n",
    "            epoch_loss = running_loss / len(image_datasets[phase])\n",
    "            epoch_acc = running_corrects.float() / len(image_datasets[phase])\n",
    "\n",
    "            print('{} loss: {:.4f}, acc: {:.4f}'.format(phase,\n",
    "                                                        epoch_loss,\n",
    "                                                        epoch_acc))\n",
    "    return model"
   ]
  },
  {
   "cell_type": "code",
   "execution_count": 9,
   "id": "0a512ebc",
   "metadata": {
    "scrolled": false
   },
   "outputs": [
    {
     "name": "stdout",
     "output_type": "stream",
     "text": [
      "Epoch 1/30\n",
      "----------\n",
      "train loss: 0.5272, acc: 0.7161\n",
      "validation loss: 0.6043, acc: 0.6350\n",
      "Epoch 2/30\n",
      "----------\n",
      "train loss: 0.3031, acc: 0.8905\n",
      "validation loss: 0.2886, acc: 0.8850\n",
      "Epoch 3/30\n",
      "----------\n",
      "train loss: 0.2623, acc: 0.8977\n",
      "validation loss: 0.2583, acc: 0.9000\n",
      "Epoch 4/30\n",
      "----------\n",
      "train loss: 0.2310, acc: 0.9121\n",
      "validation loss: 0.2464, acc: 0.8950\n",
      "Epoch 5/30\n",
      "----------\n",
      "train loss: 0.2136, acc: 0.9049\n",
      "validation loss: 0.2449, acc: 0.9050\n",
      "Epoch 6/30\n",
      "----------\n",
      "train loss: 0.1977, acc: 0.9135\n",
      "validation loss: 0.2253, acc: 0.9100\n",
      "Epoch 7/30\n",
      "----------\n",
      "train loss: 0.1721, acc: 0.9323\n",
      "validation loss: 0.2134, acc: 0.9200\n",
      "Epoch 8/30\n",
      "----------\n",
      "train loss: 0.1796, acc: 0.9236\n",
      "validation loss: 0.2177, acc: 0.9050\n",
      "Epoch 9/30\n",
      "----------\n",
      "train loss: 0.1588, acc: 0.9308\n",
      "validation loss: 0.2033, acc: 0.8950\n",
      "Epoch 10/30\n",
      "----------\n",
      "train loss: 0.1806, acc: 0.9308\n",
      "validation loss: 0.2227, acc: 0.9000\n",
      "Epoch 11/30\n",
      "----------\n",
      "train loss: 0.1530, acc: 0.9395\n",
      "validation loss: 0.2190, acc: 0.8950\n",
      "Epoch 12/30\n",
      "----------\n",
      "train loss: 0.1771, acc: 0.9193\n",
      "validation loss: 0.2041, acc: 0.9000\n",
      "Epoch 13/30\n",
      "----------\n",
      "train loss: 0.1608, acc: 0.9323\n",
      "validation loss: 0.2042, acc: 0.9000\n",
      "Epoch 14/30\n",
      "----------\n",
      "train loss: 0.2844, acc: 0.8732\n",
      "validation loss: 0.2223, acc: 0.9050\n",
      "Epoch 15/30\n",
      "----------\n",
      "train loss: 0.1891, acc: 0.9207\n",
      "validation loss: 0.2484, acc: 0.8900\n",
      "Epoch 16/30\n",
      "----------\n",
      "train loss: 0.1577, acc: 0.9323\n",
      "validation loss: 0.2384, acc: 0.9050\n",
      "Epoch 17/30\n",
      "----------\n",
      "train loss: 0.1690, acc: 0.9280\n",
      "validation loss: 0.2147, acc: 0.8950\n",
      "Epoch 18/30\n",
      "----------\n",
      "train loss: 0.1565, acc: 0.9380\n",
      "validation loss: 0.2064, acc: 0.9100\n",
      "Epoch 19/30\n",
      "----------\n",
      "train loss: 0.1615, acc: 0.9395\n",
      "validation loss: 0.1929, acc: 0.9200\n",
      "Epoch 20/30\n",
      "----------\n",
      "train loss: 0.1551, acc: 0.9366\n",
      "validation loss: 0.2553, acc: 0.8800\n",
      "Epoch 21/30\n",
      "----------\n",
      "train loss: 0.1526, acc: 0.9294\n",
      "validation loss: 0.2065, acc: 0.9050\n",
      "Epoch 22/30\n",
      "----------\n",
      "train loss: 0.1469, acc: 0.9352\n",
      "validation loss: 0.1970, acc: 0.9050\n",
      "Epoch 23/30\n",
      "----------\n",
      "train loss: 0.1429, acc: 0.9452\n",
      "validation loss: 0.2280, acc: 0.8900\n",
      "Epoch 24/30\n",
      "----------\n",
      "train loss: 0.1829, acc: 0.9352\n",
      "validation loss: 0.2019, acc: 0.9050\n",
      "Epoch 25/30\n",
      "----------\n",
      "train loss: 0.1187, acc: 0.9539\n",
      "validation loss: 0.1913, acc: 0.9050\n",
      "Epoch 26/30\n",
      "----------\n",
      "train loss: 0.1248, acc: 0.9452\n",
      "validation loss: 0.1818, acc: 0.9300\n",
      "Epoch 27/30\n",
      "----------\n",
      "train loss: 0.1564, acc: 0.9366\n",
      "validation loss: 0.1984, acc: 0.9050\n",
      "Epoch 28/30\n",
      "----------\n",
      "train loss: 0.1693, acc: 0.9308\n",
      "validation loss: 0.1958, acc: 0.9050\n",
      "Epoch 29/30\n",
      "----------\n",
      "train loss: 0.1440, acc: 0.9539\n",
      "validation loss: 0.1818, acc: 0.9300\n",
      "Epoch 30/30\n",
      "----------\n",
      "train loss: 0.1073, acc: 0.9568\n",
      "validation loss: 0.2133, acc: 0.8950\n"
     ]
    }
   ],
   "source": [
    "model_trained = train_model(model, criterion, optimizer, num_epochs=30)"
   ]
  },
  {
   "cell_type": "code",
   "execution_count": null,
   "id": "494c841d",
   "metadata": {},
   "outputs": [],
   "source": []
  }
 ],
 "metadata": {
  "kernelspec": {
   "display_name": "Python 3.9 (pytorch)",
   "language": "python",
   "name": "torch"
  },
  "language_info": {
   "codemirror_mode": {
    "name": "ipython",
    "version": 3
   },
   "file_extension": ".py",
   "mimetype": "text/x-python",
   "name": "python",
   "nbconvert_exporter": "python",
   "pygments_lexer": "ipython3",
   "version": "3.9.16"
  }
 },
 "nbformat": 4,
 "nbformat_minor": 5
}
